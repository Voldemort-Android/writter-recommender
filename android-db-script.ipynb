{
 "cells": [
  {
   "cell_type": "code",
   "execution_count": 1,
   "metadata": {
    "collapsed": true
   },
   "outputs": [],
   "source": [
    "import pymysql\n",
    "pymysql.install_as_MySQLdb()\n",
    "import copy\n",
    "import numpy as np\n",
    "import pandas as pd\n",
    "import logging\n",
    "import requests\n",
    "from bs4 import BeautifulSoup\n",
    "import random\n",
    "\n",
    "from adobe_analytics import Client, ReportDefinition\n",
    "from datetime import datetime, timedelta"
   ]
  },
  {
   "cell_type": "code",
   "execution_count": 2,
   "metadata": {
    "collapsed": true
   },
   "outputs": [],
   "source": [
    "def create_db_instance():\n",
    "    db = pymysql.connect(\n",
    "        host=\"writter-db.chsokvgtm8us.us-east-2.rds.amazonaws.com\",\n",
    "        port=3306,\n",
    "        user=\"root\",\n",
    "        passwd=\"12345678\",\n",
    "        db=\"writter\"\n",
    "    )\n",
    "    \n",
    "    return db\n",
    "    \n",
    "def close_db_instance(db):\n",
    "    db.close()"
   ]
  },
  {
   "cell_type": "code",
   "execution_count": 3,
   "metadata": {
    "collapsed": true
   },
   "outputs": [],
   "source": [
    "db = create_db_instance()"
   ]
  },
  {
   "cell_type": "code",
   "execution_count": 4,
   "metadata": {
    "collapsed": true
   },
   "outputs": [],
   "source": [
    "def create_fake_user(db, user):\n",
    "    cur = db.cursor()\n",
    "    \n",
    "    sql = 'INSERT INTO `writter`.`users`'\n",
    "    sql += '('\n",
    "    sql += '`email`,'\n",
    "    sql += '`first_name`,'\n",
    "    sql += '`last_name`,'\n",
    "    sql += '`password`,'\n",
    "    sql += '`points`,'\n",
    "    sql += '`enabled`,'\n",
    "    sql += '`created`,'\n",
    "    sql += '`modified`,'\n",
    "    sql += '`username`)'\n",
    "    sql += 'VALUES'\n",
    "    sql += '('\n",
    "    sql += '\"' + user['email'] + '\",'\n",
    "    sql += '\"' + user['first_name'] + '\",'\n",
    "    sql += '\"' + user['last_name'] + '\",'\n",
    "    sql += '\"' + '$2a$10$9L8exgqgB.yvoN0km3d.5uRjpfscFMjwADUmGizMW58TBZS8wsj5S' + '\",'\n",
    "    sql += '0' + ','\n",
    "    sql += '1' + ','\n",
    "    sql += '\"' + datetime.now().isoformat() + '\",'\n",
    "    sql += '\"' + datetime.now().isoformat() + '\",'\n",
    "    sql += '\"' + user['username'] + '\");'\n",
    "    \n",
    "    cur.execute(sql)\n",
    "    db.commit()\n",
    "    cur.close()\n",
    "\n",
    "    return user"
   ]
  },
  {
   "cell_type": "code",
   "execution_count": 5,
   "metadata": {
    "collapsed": true
   },
   "outputs": [],
   "source": [
    "names = []\n",
    "with open(\"names.txt\", \"r\") as ins:\n",
    "    for line in ins:\n",
    "        line = line.strip().split(' ')\n",
    "        names.append({\n",
    "            'first_name': line[0],\n",
    "            'last_name': line[1],\n",
    "        })"
   ]
  },
  {
   "cell_type": "code",
   "execution_count": 6,
   "metadata": {},
   "outputs": [
    {
     "name": "stdout",
     "output_type": "stream",
     "text": [
      "error (1062, \"Duplicate entry 'asparks@fakeuser.com' for key 'UK_6dotkott2kjsp8vw4d0m25fb7'\")\n",
      "error (1062, \"Duplicate entry 'ofarley@fakeuser.com' for key 'UK_6dotkott2kjsp8vw4d0m25fb7'\")\n",
      "error (1062, \"Duplicate entry 'xbanks@fakeuser.com' for key 'UK_6dotkott2kjsp8vw4d0m25fb7'\")\n",
      "error (1062, \"Duplicate entry 'pcobb@fakeuser.com' for key 'UK_6dotkott2kjsp8vw4d0m25fb7'\")\n",
      "error (1062, \"Duplicate entry 'ahill@fakeuser.com' for key 'UK_6dotkott2kjsp8vw4d0m25fb7'\")\n",
      "error (1062, \"Duplicate entry 'dfrancis@fakeuser.com' for key 'UK_6dotkott2kjsp8vw4d0m25fb7'\")\n",
      "error (1062, \"Duplicate entry 'jprice@fakeuser.com' for key 'UK_6dotkott2kjsp8vw4d0m25fb7'\")\n",
      "error (1062, \"Duplicate entry 'thaney@fakeuser.com' for key 'UK_6dotkott2kjsp8vw4d0m25fb7'\")\n",
      "error (1062, \"Duplicate entry 'zsanders@fakeuser.com' for key 'UK_6dotkott2kjsp8vw4d0m25fb7'\")\n",
      "error (1062, \"Duplicate entry 'ijackson@fakeuser.com' for key 'UK_6dotkott2kjsp8vw4d0m25fb7'\")\n",
      "error (1062, \"Duplicate entry 'tduarte@fakeuser.com' for key 'UK_6dotkott2kjsp8vw4d0m25fb7'\")\n",
      "error (1062, \"Duplicate entry 'rtran@fakeuser.com' for key 'UK_6dotkott2kjsp8vw4d0m25fb7'\")\n",
      "error (1062, \"Duplicate entry 'jnelson@fakeuser.com' for key 'UK_6dotkott2kjsp8vw4d0m25fb7'\")\n",
      "error (1062, \"Duplicate entry 'kbarber@fakeuser.com' for key 'UK_6dotkott2kjsp8vw4d0m25fb7'\")\n",
      "error (1062, \"Duplicate entry 'dcherry@fakeuser.com' for key 'UK_6dotkott2kjsp8vw4d0m25fb7'\")\n",
      "error (1062, \"Duplicate entry 'epoole@fakeuser.com' for key 'UK_6dotkott2kjsp8vw4d0m25fb7'\")\n",
      "error (1062, \"Duplicate entry 'slindsey@fakeuser.com' for key 'UK_6dotkott2kjsp8vw4d0m25fb7'\")\n",
      "error (1062, \"Duplicate entry 'mmccall@fakeuser.com' for key 'UK_6dotkott2kjsp8vw4d0m25fb7'\")\n",
      "error (1062, \"Duplicate entry 'rcarrillo@fakeuser.com' for key 'UK_6dotkott2kjsp8vw4d0m25fb7'\")\n",
      "error (1062, \"Duplicate entry 'lhayes@fakeuser.com' for key 'UK_6dotkott2kjsp8vw4d0m25fb7'\")\n",
      "error (1062, \"Duplicate entry 'grangel@fakeuser.com' for key 'UK_6dotkott2kjsp8vw4d0m25fb7'\")\n",
      "error (1062, \"Duplicate entry 'hhatfield@fakeuser.com' for key 'UK_6dotkott2kjsp8vw4d0m25fb7'\")\n",
      "error (1062, \"Duplicate entry 'rthornton@fakeuser.com' for key 'UK_6dotkott2kjsp8vw4d0m25fb7'\")\n",
      "error (1062, \"Duplicate entry 'jharrell@fakeuser.com' for key 'UK_6dotkott2kjsp8vw4d0m25fb7'\")\n",
      "error (1062, \"Duplicate entry 'arowe@fakeuser.com' for key 'UK_6dotkott2kjsp8vw4d0m25fb7'\")\n",
      "error (1062, \"Duplicate entry 'awise@fakeuser.com' for key 'UK_6dotkott2kjsp8vw4d0m25fb7'\")\n",
      "error (1062, \"Duplicate entry 'ebeck@fakeuser.com' for key 'UK_6dotkott2kjsp8vw4d0m25fb7'\")\n",
      "error (1062, \"Duplicate entry 'sgonzales@fakeuser.com' for key 'UK_6dotkott2kjsp8vw4d0m25fb7'\")\n",
      "error (1062, \"Duplicate entry 'amaldonado@fakeuser.com' for key 'UK_6dotkott2kjsp8vw4d0m25fb7'\")\n",
      "error (1062, \"Duplicate entry 'wwebb@fakeuser.com' for key 'UK_6dotkott2kjsp8vw4d0m25fb7'\")\n",
      "error (1062, \"Duplicate entry 'lcollins@fakeuser.com' for key 'UK_6dotkott2kjsp8vw4d0m25fb7'\")\n",
      "error (1062, \"Duplicate entry 'mbarton@fakeuser.com' for key 'UK_6dotkott2kjsp8vw4d0m25fb7'\")\n",
      "error (1062, \"Duplicate entry 'mbrandt@fakeuser.com' for key 'UK_6dotkott2kjsp8vw4d0m25fb7'\")\n",
      "error (1062, \"Duplicate entry 'zjohnston@fakeuser.com' for key 'UK_6dotkott2kjsp8vw4d0m25fb7'\")\n",
      "error (1062, \"Duplicate entry 'gryan@fakeuser.com' for key 'UK_6dotkott2kjsp8vw4d0m25fb7'\")\n",
      "error (1062, \"Duplicate entry 'apowell@fakeuser.com' for key 'UK_6dotkott2kjsp8vw4d0m25fb7'\")\n",
      "error (1062, \"Duplicate entry 'anunez@fakeuser.com' for key 'UK_6dotkott2kjsp8vw4d0m25fb7'\")\n",
      "error (1062, \"Duplicate entry 'mfrederick@fakeuser.com' for key 'UK_6dotkott2kjsp8vw4d0m25fb7'\")\n",
      "error (1062, \"Duplicate entry 'astevenson@fakeuser.com' for key 'UK_6dotkott2kjsp8vw4d0m25fb7'\")\n",
      "error (1062, \"Duplicate entry 'dcunningham@fakeuser.com' for key 'UK_6dotkott2kjsp8vw4d0m25fb7'\")\n",
      "error (1062, \"Duplicate entry 'amann@fakeuser.com' for key 'UK_6dotkott2kjsp8vw4d0m25fb7'\")\n",
      "error (1062, \"Duplicate entry 'lcastro@fakeuser.com' for key 'UK_6dotkott2kjsp8vw4d0m25fb7'\")\n",
      "error (1062, \"Duplicate entry 'khernandez@fakeuser.com' for key 'UK_6dotkott2kjsp8vw4d0m25fb7'\")\n",
      "error (1062, \"Duplicate entry 'lpotts@fakeuser.com' for key 'UK_6dotkott2kjsp8vw4d0m25fb7'\")\n",
      "error (1062, \"Duplicate entry 'kfischer@fakeuser.com' for key 'UK_6dotkott2kjsp8vw4d0m25fb7'\")\n",
      "error (1062, \"Duplicate entry 'bwilliams@fakeuser.com' for key 'UK_6dotkott2kjsp8vw4d0m25fb7'\")\n",
      "error (1062, \"Duplicate entry 'mbraun@fakeuser.com' for key 'UK_6dotkott2kjsp8vw4d0m25fb7'\")\n",
      "error (1062, \"Duplicate entry 'rsherman@fakeuser.com' for key 'UK_6dotkott2kjsp8vw4d0m25fb7'\")\n",
      "error (1062, \"Duplicate entry 'grich@fakeuser.com' for key 'UK_6dotkott2kjsp8vw4d0m25fb7'\")\n",
      "error (1062, \"Duplicate entry 'bbautista@fakeuser.com' for key 'UK_6dotkott2kjsp8vw4d0m25fb7'\")\n"
     ]
    }
   ],
   "source": [
    "for name in names:\n",
    "    user = {}\n",
    "    user['first_name'] = name['first_name']\n",
    "    user['last_name'] = name['last_name']\n",
    "    user['email'] = user['first_name'][0].lower() + user['last_name'].lower() + '@fakeuser.com'\n",
    "    user['username'] = user['first_name'][0].lower() + user['last_name'].lower()\n",
    "    try:\n",
    "        create_fake_user(db, user)\n",
    "    except Exception as e:\n",
    "        print('error', e)\n",
    "        \n",
    "    "
   ]
  },
  {
   "cell_type": "code",
   "execution_count": 7,
   "metadata": {
    "collapsed": true
   },
   "outputs": [],
   "source": [
    "def get_fake_users(db):\n",
    "    cur = db.cursor()\n",
    "\n",
    "    sql = 'SELECT id, email FROM '\n",
    "    sql += 'writter.users '\n",
    "    sql += \"WHERE email LIKE '%fakeuser.com%'\"\n",
    "    \n",
    "    cur.execute(sql)\n",
    "    \n",
    "    users = []\n",
    "    \n",
    "    for row in cur.fetchall():\n",
    "        user = {\n",
    "            'id': row[0],\n",
    "            'email': row[1],\n",
    "        }\n",
    "        users.append(user)\n",
    "    cur.close()\n",
    "    return users"
   ]
  },
  {
   "cell_type": "code",
   "execution_count": 8,
   "metadata": {
    "collapsed": true
   },
   "outputs": [],
   "source": [
    "fake_users = get_fake_users(db)"
   ]
  },
  {
   "cell_type": "code",
   "execution_count": 9,
   "metadata": {
    "collapsed": true
   },
   "outputs": [],
   "source": [
    "def create_stories(db, story):\n",
    "    user_index = random.randint(1, (len(fake_users) - 1))\n",
    "    cur = db.cursor()\n",
    "    \n",
    "    sql = \"INSERT INTO `writter`.`stories` (`author_id`, `created`, `enabled`, `modified`, `points`, `text`, `title`, `views`) VALUES (%s, %s, %s, %s, %s, %s, %s, %s)\"\n",
    "    vals = (fake_users[user_index]['id'], datetime.now().isoformat(), 1, datetime.now().isoformat(), 0, story['text'], story['name'], 0)\n",
    "    cur.execute(sql, vals)\n",
    "    \n",
    "    db.commit()\n",
    "    cur.close()\n",
    "\n",
    "    return user"
   ]
  },
  {
   "cell_type": "code",
   "execution_count": 10,
   "metadata": {
    "collapsed": true
   },
   "outputs": [],
   "source": [
    "url = 'http://textfiles.com/stories/'\n",
    "page = requests.get(url)"
   ]
  },
  {
   "cell_type": "code",
   "execution_count": 11,
   "metadata": {
    "collapsed": true
   },
   "outputs": [],
   "source": [
    "soup = BeautifulSoup(page.content, 'html.parser')"
   ]
  },
  {
   "cell_type": "code",
   "execution_count": 12,
   "metadata": {},
   "outputs": [
    {
     "name": "stdout",
     "output_type": "stream",
     "text": [
      "452\n"
     ]
    }
   ],
   "source": [
    "trs = soup.find_all('tr')\n",
    "\n",
    "stories = []\n",
    "for tr in trs[3].text.splitlines():\n",
    "    file_name = tr.split(' ')[0]\n",
    "    story_name = ' '.join(tr.split(' ')[3:])\n",
    "    story_name = story_name.split('(')[0]\n",
    "    story_name = story_name.split(',')[0]\n",
    "    story_name = story_name.split('by')[0]\n",
    "    story_name = story_name.strip()\n",
    "    stories.append({'file': file_name, 'name': story_name})\n",
    "#     print(file_name, '|', story_name)\n",
    "print(len(stories))"
   ]
  },
  {
   "cell_type": "code",
   "execution_count": 13,
   "metadata": {},
   "outputs": [
    {
     "name": "stderr",
     "output_type": "stream",
     "text": [
      "Some characters could not be decoded, and were replaced with REPLACEMENT CHARACTER.\n",
      "C:\\Anaconda3\\lib\\site-packages\\pymysql\\cursors.py:170: Warning: (1366, \"Incorrect string value: '\\\\xEF\\\\xBF\\\\xBDBU\\\\x17...' for column 'text' at row 1\")\n",
      "  result = self._query(query)\n",
      "C:\\Anaconda3\\lib\\site-packages\\pymysql\\cursors.py:170: Warning: (1366, \"Incorrect string value: '\\\\xE0\\\\xB8\\\\xA9\\\\xE0\\\\xB8\\\\xAD...' for column 'text' at row 1\")\n",
      "  result = self._query(query)\n",
      "Some characters could not be decoded, and were replaced with REPLACEMENT CHARACTER.\n",
      "C:\\Anaconda3\\lib\\site-packages\\pymysql\\cursors.py:170: Warning: (1366, \"Incorrect string value: '\\\\xEF\\\\xBF\\\\xBD\\\\xC3\\\\xA8\\\\xEF...' for column 'text' at row 1\")\n",
      "  result = self._query(query)\n"
     ]
    }
   ],
   "source": [
    "for story in stories:\n",
    "    full_url = url + story['file']\n",
    "    page = requests.get(full_url)\n",
    "    \n",
    "    soup = BeautifulSoup(page.content, 'html.parser')\n",
    "    text = soup.text.strip()\n",
    "    story['text'] = text\n",
    "    \n",
    "    try:\n",
    "        create_stories(db, story)\n",
    "    except Exception as e:\n",
    "        print('error', e)"
   ]
  },
  {
   "cell_type": "code",
   "execution_count": 14,
   "metadata": {
    "collapsed": true
   },
   "outputs": [],
   "source": [
    "def get_stories(db):\n",
    "    cur = db.cursor()\n",
    "\n",
    "    sql = 'SELECT id, title FROM '\n",
    "    sql += 'writter.stories'\n",
    "    \n",
    "    cur.execute(sql)\n",
    "    \n",
    "    stories = []\n",
    "    \n",
    "    for row in cur.fetchall():\n",
    "        story = {\n",
    "            'id': row[0],\n",
    "            'title': row[1],\n",
    "        }\n",
    "        stories.append(story)\n",
    "    cur.close()\n",
    "    return stories"
   ]
  },
  {
   "cell_type": "code",
   "execution_count": 15,
   "metadata": {
    "collapsed": true
   },
   "outputs": [],
   "source": [
    "all_stories = get_stories(db)"
   ]
  },
  {
   "cell_type": "code",
   "execution_count": 16,
   "metadata": {
    "collapsed": true
   },
   "outputs": [],
   "source": [
    "# def create_authors(db, story, user):\n",
    "#     cur = db.cursor()\n",
    "    \n",
    "#     sql = \"INSERT INTO `writter`.`authors` (`story_id`, `user_id`) VALUES (%s, %s)\"\n",
    "#     vals = (story, user)\n",
    "#     cur.execute(sql, vals)\n",
    "    \n",
    "#     db.commit()\n",
    "#     cur.close()\n",
    "\n",
    "#     return user"
   ]
  },
  {
   "cell_type": "code",
   "execution_count": 17,
   "metadata": {
    "collapsed": true
   },
   "outputs": [],
   "source": [
    "# for story in all_stories:\n",
    "#     user_index = random.randint(1, (len(fake_users) - 1))\n",
    "#     create_authors(db, story['id'], fake_users[user_index]['id'])"
   ]
  },
  {
   "cell_type": "code",
   "execution_count": 18,
   "metadata": {
    "collapsed": true
   },
   "outputs": [],
   "source": [
    "def create_rating(db, story, user):\n",
    "    rating_range = random.randint(1, 100)\n",
    "    rating = 4\n",
    "    if rating_range <= 10:\n",
    "        rating = 1\n",
    "    elif rating_range <= 25:\n",
    "        rating = 2\n",
    "    elif rating_range <= 50:\n",
    "        rating = 3\n",
    "    elif rating_range <= 80:\n",
    "        rating = 4\n",
    "    else:\n",
    "        rating = 5\n",
    "\n",
    "    cur = db.cursor()\n",
    "    \n",
    "    sql = \"INSERT INTO `writter`.`ratings` (`created`, `enabled`, `modified`, `rating`, `story_id`, `user_id`) VALUES (%s, %s, %s, %s, %s, %s)\"\n",
    "    vals = (datetime.now().isoformat(), 1, datetime.now().isoformat(), rating, story, user)\n",
    "    cur.execute(sql, vals)\n",
    "    \n",
    "    db.commit()\n",
    "    cur.close()\n",
    "\n",
    "    return user"
   ]
  },
  {
   "cell_type": "code",
   "execution_count": 19,
   "metadata": {},
   "outputs": [],
   "source": [
    "for story in all_stories:\n",
    "    number_of_users_rating = random.randint(5, 20)\n",
    "    for _ in range(0, number_of_users_rating):\n",
    "        user_index = random.randint(1, (len(fake_users) - 1))\n",
    "        create_rating(db, story['id'], fake_users[user_index]['id'])"
   ]
  },
  {
   "cell_type": "code",
   "execution_count": 20,
   "metadata": {
    "collapsed": true
   },
   "outputs": [],
   "source": [
    "close_db_instance(db)"
   ]
  },
  {
   "cell_type": "code",
   "execution_count": null,
   "metadata": {
    "collapsed": true
   },
   "outputs": [],
   "source": []
  }
 ],
 "metadata": {
  "kernelspec": {
   "display_name": "Python 3",
   "language": "python",
   "name": "python3"
  },
  "language_info": {
   "codemirror_mode": {
    "name": "ipython",
    "version": 3
   },
   "file_extension": ".py",
   "mimetype": "text/x-python",
   "name": "python",
   "nbconvert_exporter": "python",
   "pygments_lexer": "ipython3",
   "version": "3.6.1"
  }
 },
 "nbformat": 4,
 "nbformat_minor": 2
}
