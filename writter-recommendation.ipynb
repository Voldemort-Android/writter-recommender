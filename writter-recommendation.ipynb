{
 "cells": [
  {
   "cell_type": "code",
   "execution_count": 67,
   "metadata": {
    "collapsed": true
   },
   "outputs": [],
   "source": [
    "import numpy as np\n",
    "import pandas as pd\n",
    "import math\n",
    "from random import randint\n",
    "import pymysql\n",
    "pymysql.install_as_MySQLdb()\n",
    "from datetime import datetime, timedelta"
   ]
  },
  {
   "cell_type": "code",
   "execution_count": 2,
   "metadata": {
    "collapsed": true
   },
   "outputs": [],
   "source": [
    "def create_db_instance():\n",
    "    db = pymysql.connect(\n",
    "        host=\"writter-db.chsokvgtm8us.us-east-2.rds.amazonaws.com\",\n",
    "        port=3306,\n",
    "        user=\"root\",\n",
    "        passwd=\"12345678\",\n",
    "        db=\"writter\"\n",
    "    )\n",
    "    \n",
    "    return db\n",
    "    \n",
    "def close_db_instance(db):\n",
    "    db.close()"
   ]
  },
  {
   "cell_type": "code",
   "execution_count": 76,
   "metadata": {},
   "outputs": [],
   "source": [
    "def insert_recommendations(db, recommendation):\n",
    "    cur = db.cursor()\n",
    "    \n",
    "    sql = \"INSERT INTO `writter`.`recommendation` (`created`, `enabled`, `modified`,`rating`, `story_id`, `user_id`) VALUES (%s, %s, %s, %s, %s, %s)\"\n",
    "    vals = (datetime.now().isoformat(), 1, datetime.now().isoformat(), recommendation['rating'], recommendation['story_id'], recommendation['user_id'])\n",
    "    cur.execute(sql, vals)\n",
    "    \n",
    "    db.commit()\n",
    "    cur.close()\n",
    "\n",
    "    return user"
   ]
  },
  {
   "cell_type": "code",
   "execution_count": 55,
   "metadata": {
    "collapsed": true
   },
   "outputs": [],
   "source": [
    "def get_users(db):\n",
    "    cur = db.cursor()\n",
    "\n",
    "    sql = 'SELECT id, email FROM '\n",
    "    sql += 'writter.users'\n",
    "    \n",
    "    cur.execute(sql)\n",
    "    \n",
    "    users = []\n",
    "    \n",
    "    for row in cur.fetchall():\n",
    "        user = {\n",
    "            'id': row[0],\n",
    "            'email': row[1],\n",
    "        }\n",
    "        users.append(user)\n",
    "    cur.close()\n",
    "    return users"
   ]
  },
  {
   "cell_type": "code",
   "execution_count": 3,
   "metadata": {
    "collapsed": true
   },
   "outputs": [],
   "source": [
    "def get_rating(db):\n",
    "    cur = db.cursor()\n",
    "\n",
    "    sql = 'SELECT rating, story_id, user_id FROM '\n",
    "    sql += 'writter.ratings'\n",
    "    \n",
    "    cur.execute(sql)\n",
    "    \n",
    "    ratings = []\n",
    "    \n",
    "    for row in cur.fetchall():\n",
    "        rating = {\n",
    "            'user_id': row[2],\n",
    "            'story_id': row[1],\n",
    "            'rating': row[0]\n",
    "        }\n",
    "        ratings.append(rating)\n",
    "\n",
    "    cur.close()\n",
    "\n",
    "    return ratings"
   ]
  },
  {
   "cell_type": "code",
   "execution_count": 4,
   "metadata": {
    "collapsed": true
   },
   "outputs": [],
   "source": [
    "db = create_db_instance()"
   ]
  },
  {
   "cell_type": "code",
   "execution_count": 9,
   "metadata": {
    "collapsed": true
   },
   "outputs": [],
   "source": [
    "ratings = get_rating(db)"
   ]
  },
  {
   "cell_type": "code",
   "execution_count": 10,
   "metadata": {},
   "outputs": [
    {
     "data": {
      "text/html": [
       "<div>\n",
       "<style>\n",
       "    .dataframe thead tr:only-child th {\n",
       "        text-align: right;\n",
       "    }\n",
       "\n",
       "    .dataframe thead th {\n",
       "        text-align: left;\n",
       "    }\n",
       "\n",
       "    .dataframe tbody tr th {\n",
       "        vertical-align: top;\n",
       "    }\n",
       "</style>\n",
       "<table border=\"1\" class=\"dataframe\">\n",
       "  <thead>\n",
       "    <tr style=\"text-align: right;\">\n",
       "      <th></th>\n",
       "      <th>rating</th>\n",
       "      <th>story_id</th>\n",
       "      <th>user_id</th>\n",
       "    </tr>\n",
       "  </thead>\n",
       "  <tbody>\n",
       "    <tr>\n",
       "      <th>0</th>\n",
       "      <td>4.0</td>\n",
       "      <td>42</td>\n",
       "      <td>40</td>\n",
       "    </tr>\n",
       "    <tr>\n",
       "      <th>1</th>\n",
       "      <td>4.0</td>\n",
       "      <td>42</td>\n",
       "      <td>46</td>\n",
       "    </tr>\n",
       "    <tr>\n",
       "      <th>2</th>\n",
       "      <td>2.0</td>\n",
       "      <td>42</td>\n",
       "      <td>30</td>\n",
       "    </tr>\n",
       "    <tr>\n",
       "      <th>3</th>\n",
       "      <td>5.0</td>\n",
       "      <td>42</td>\n",
       "      <td>12</td>\n",
       "    </tr>\n",
       "    <tr>\n",
       "      <th>4</th>\n",
       "      <td>1.0</td>\n",
       "      <td>42</td>\n",
       "      <td>23</td>\n",
       "    </tr>\n",
       "  </tbody>\n",
       "</table>\n",
       "</div>"
      ],
      "text/plain": [
       "   rating  story_id  user_id\n",
       "0     4.0        42       40\n",
       "1     4.0        42       46\n",
       "2     2.0        42       30\n",
       "3     5.0        42       12\n",
       "4     1.0        42       23"
      ]
     },
     "execution_count": 10,
     "metadata": {},
     "output_type": "execute_result"
    }
   ],
   "source": [
    "ratings_df = pd.DataFrame(ratings)\n",
    "ratings_df.head()"
   ]
  },
  {
   "cell_type": "markdown",
   "metadata": {},
   "source": [
    "### Euclidean Distance Score \n",
    "#### Uses Euclidean Distance Score to find similar users best on how close the users data points are"
   ]
  },
  {
   "cell_type": "code",
   "execution_count": 11,
   "metadata": {
    "collapsed": true
   },
   "outputs": [],
   "source": [
    "def sim_euc(prefs, p1, p2):\n",
    "    shared = {}\n",
    "    for item in prefs[p1]:\n",
    "        if item in prefs[p2]:\n",
    "            shared[item] = 1\n",
    "    \n",
    "    if len(shared) == 0: return 0\n",
    "    \n",
    "    sum_of_squares = ([pow(prefs[p1][item] - prefs[p2][item],2) for item in shared])\n",
    "    \n",
    "    return 1/(1+sqrt(sum_of_squares))"
   ]
  },
  {
   "cell_type": "markdown",
   "metadata": {},
   "source": [
    "### Pearson Correlation Coefficient\n",
    "#### Find the Pearson Correlation Coefficient to find the similarties between users"
   ]
  },
  {
   "cell_type": "code",
   "execution_count": 12,
   "metadata": {
    "collapsed": true
   },
   "outputs": [],
   "source": [
    "def sim_pearson(prefs, p1, p2):\n",
    "    shared = {}\n",
    "    for item in prefs[p1]:\n",
    "        if item in prefs[p2]: shared[item] = 1\n",
    "    \n",
    "    n = len(shared)\n",
    "    \n",
    "    if n == 0: return 0\n",
    "    \n",
    "    sum1 = sum(prefs[p1][item] for item in shared)\n",
    "    sum2 = sum(prefs[p2][item] for item in shared)\n",
    "    sum1Sq = sum(pow(prefs[p1][item],2) for item in shared)\n",
    "    sum2Sq = sum(pow(prefs[p2][item],2) for item in shared)\n",
    "    \n",
    "    pSum = sum([prefs[p1][item]*prefs[p2][item] for item in shared])\n",
    "    \n",
    "    num = pSum-((sum1*sum2)/n)\n",
    "    den = math.sqrt((sum1Sq-pow(sum1,2)/n)*(sum2Sq-pow(sum2,2)/n))\n",
    "    \n",
    "    if den == 0: return 0\n",
    "\n",
    "    score = num/den\n",
    "    \n",
    "    return score"
   ]
  },
  {
   "cell_type": "markdown",
   "metadata": {},
   "source": [
    "#### Transforms a dictionary of users and the items they rated to a dictionary of items and users who rated them."
   ]
  },
  {
   "cell_type": "code",
   "execution_count": 13,
   "metadata": {
    "collapsed": true
   },
   "outputs": [],
   "source": [
    "def transformDict(prefs):\n",
    "    result = {}\n",
    "    for p1 in prefs:\n",
    "        for item in prefs[p1]:\n",
    "            result.setdefault(item,{})\n",
    "            \n",
    "            result[item][p1] = prefs[p1][item]\n",
    "    return result"
   ]
  },
  {
   "cell_type": "markdown",
   "metadata": {},
   "source": [
    "#### Find the top matching users for each user based on their ratings."
   ]
  },
  {
   "cell_type": "code",
   "execution_count": 14,
   "metadata": {
    "collapsed": true
   },
   "outputs": [],
   "source": [
    "def topMatches(prefs, person, n=5, similarity=sim_pearson):\n",
    "    scores=[(similarity(prefs,person,other),other) for other in prefs if other != person]\n",
    "\n",
    "    scores.sort()\n",
    "    scores.reverse()\n",
    "    return scores[0:n]"
   ]
  },
  {
   "cell_type": "markdown",
   "metadata": {},
   "source": [
    "### Collaborative Filter\n",
    "#### Finds recommended items for each user besed on how they compare to other users who rated similar items"
   ]
  },
  {
   "cell_type": "code",
   "execution_count": 15,
   "metadata": {
    "collapsed": true
   },
   "outputs": [],
   "source": [
    "def getRecommendations(prefs, person, similarity=sim_pearson):\n",
    "    count = 0\n",
    "    totals = {}\n",
    "    simSums = {}\n",
    "    for other in prefs:\n",
    "        count += 1\n",
    "        if count % 10000 == 0:\n",
    "            print(count)\n",
    "        if other == person: continue\n",
    "        sim = similarity(prefs, person, other)\n",
    "        \n",
    "        if sim <= 0: continue\n",
    "        for item in prefs[other]:\n",
    "            \n",
    "            if item not in prefs[person] or prefs[person][item] == 0:\n",
    "                totals.setdefault(item,0)\n",
    "                totals[item] += prefs[other][item]*sim\n",
    "                \n",
    "                simSums.setdefault(item,0)\n",
    "                simSums[item] += sim\n",
    "                \n",
    "    rankings = [(total/simSums[item], item) for item, total in totals.items()]\n",
    "    \n",
    "    rankings.sort()\n",
    "    rankings.reverse()\n",
    "    return rankings"
   ]
  },
  {
   "cell_type": "markdown",
   "metadata": {},
   "source": [
    "### Calculate Similar Items\n",
    "#### Creates the item similarties data set for the item based filter."
   ]
  },
  {
   "cell_type": "code",
   "execution_count": 16,
   "metadata": {
    "collapsed": true
   },
   "outputs": [],
   "source": [
    "def calculateSimilarItems(prefs, n=10):\n",
    "    result = {}\n",
    "    \n",
    "    itemPrefs = transformDict(prefs)\n",
    "    count = 0\n",
    "    \n",
    "    for item in itemPrefs:\n",
    "        count += 1\n",
    "        if count % 1000 == 0: print(count/len(itemPrefs))\n",
    "        \n",
    "        scores = topMatches(itemPrefs, item, n=n, similarity = sim_pearson)\n",
    "        result[item] = scores\n",
    "    \n",
    "    return result"
   ]
  },
  {
   "cell_type": "markdown",
   "metadata": {},
   "source": [
    "### Item Filter\n",
    "#### Uses the item similarties data set to find similar items and recommends them to users based on their other items."
   ]
  },
  {
   "cell_type": "code",
   "execution_count": 17,
   "metadata": {
    "collapsed": true
   },
   "outputs": [],
   "source": [
    "def getRecommendedItems(prefs, itemMatch, user):\n",
    "    userRatings = prefs[user]\n",
    "    scores = {}\n",
    "    totalSim = {}\n",
    "    \n",
    "    for (item, rating) in userRatings.items():\n",
    "        for (similarity, item2) in itemMatch[item]:\n",
    "            \n",
    "            if item2 in userRatings: continue\n",
    "                \n",
    "            scores.setdefault(item2,0)\n",
    "            scores[item2] += similarity*rating\n",
    "            \n",
    "            totalSim.setdefault(item2,0)\n",
    "            totalSim[item2] += similarity\n",
    "            \n",
    "    rankings = [(score/totalSim[item], item) for item, score in scores.items()]\n",
    "    \n",
    "    rankings.sort()\n",
    "    rankings.reverse()\n",
    "    return rankings"
   ]
  },
  {
   "cell_type": "markdown",
   "metadata": {},
   "source": [
    "#### Train test split splits the pref dictions for testing"
   ]
  },
  {
   "cell_type": "code",
   "execution_count": 19,
   "metadata": {
    "collapsed": true
   },
   "outputs": [],
   "source": [
    "def train_test_split(sampleDict, split = 0.3):\n",
    "    testDict = {}\n",
    "    for key in sampleDict:\n",
    "        splitSize = math.floor(len(sampleDict[key])*split)\n",
    "        \n",
    "        randomIndexes = []\n",
    "\n",
    "        for num in range(0, splitSize):\n",
    "            num = randint(0,len(sampleDict[key]))\n",
    "            while num in randomIndexes:\n",
    "                num = randint(0,len(sampleDict[key]))\n",
    "            randomIndexes.append(randint(0,splitSize))\n",
    "\n",
    "        testDict.setdefault(key,{})\n",
    "        indexCount = 0\n",
    "        delList = []\n",
    "        for i in sampleDict[key]:\n",
    "            if indexCount in randomIndexes:\n",
    "                testDict[key][i] = sampleDict[key][i] \n",
    "                delList.append(i)\n",
    "                \n",
    "                randomIndexes.remove(indexCount)\n",
    "            indexCount += 1\n",
    "        for ind in delList:\n",
    "            del sampleDict[key][ind]\n",
    "    return sampleDict, testDict"
   ]
  },
  {
   "cell_type": "markdown",
   "metadata": {},
   "source": [
    "#### get the rmse for one user"
   ]
  },
  {
   "cell_type": "code",
   "execution_count": 20,
   "metadata": {
    "collapsed": true
   },
   "outputs": [],
   "source": [
    "def recommend_accuracy(recommendation, test, user):\n",
    "    sim = []\n",
    "    \n",
    "    for item in recommendation:\n",
    "        if item[1] in test[user]:\n",
    "            sim.append((item[1], item[0], test[user][item[1]]))\n",
    "    #print(recommendation)\n",
    "    #print(test[user])\n",
    "    rmse = 0\n",
    "    mse = 0\n",
    "    for item in sim:\n",
    "        mse += pow((item[1] - item[2]),2) \n",
    "        \n",
    "    if(len(sim) > 0):\n",
    "        mse = mse/len(sim)\n",
    "        rmse = pow(mse, 0.5)\n",
    "        return rmse\n",
    "    else:\n",
    "        return None"
   ]
  },
  {
   "cell_type": "markdown",
   "metadata": {},
   "source": [
    "#### get the accuracies for all users in the dictionary"
   ]
  },
  {
   "cell_type": "code",
   "execution_count": 21,
   "metadata": {
    "collapsed": true
   },
   "outputs": [],
   "source": [
    "def get_all_accuracies(pref, test, itemMatrix):\n",
    "    total_rmse = 0\n",
    "    missedCount = 0\n",
    "    rmseCount = 0\n",
    "    for user in test:\n",
    "        userRec = getRecommendedItems(pref, itemMatrix, user)\n",
    "        acc = recommend_accuracy(userRec, testDict, 3)\n",
    "        \n",
    "        if acc is not None:\n",
    "            rmseCount += 1\n",
    "            total_rmse += acc\n",
    "        else:\n",
    "            missedCount += 1\n",
    "            \n",
    "    return total_rmse/rmseCount, missedCount/len(pref)"
   ]
  },
  {
   "cell_type": "code",
   "execution_count": 22,
   "metadata": {
    "collapsed": true
   },
   "outputs": [],
   "source": [
    "def ratingToDict(user, story, rating, dictionary):\n",
    "    if user in dictionary:\n",
    "        dictionary[user][story] = rating\n",
    "    else:\n",
    "        dictionary[user] = {}\n",
    "        dictionary[user][story] = rating"
   ]
  },
  {
   "cell_type": "code",
   "execution_count": 25,
   "metadata": {},
   "outputs": [
    {
     "data": {
      "text/plain": [
       "5738"
      ]
     },
     "execution_count": 25,
     "metadata": {},
     "output_type": "execute_result"
    }
   ],
   "source": [
    "ratings_df.shape[0]"
   ]
  },
  {
   "cell_type": "code",
   "execution_count": 28,
   "metadata": {
    "collapsed": true
   },
   "outputs": [],
   "source": [
    "def convertRatingDF():\n",
    "    ratingDict = {}\n",
    "    sampleSize = ratings_df.shape[0]\n",
    "    for index, row in ratings_df[ratings_df['rating'] != -1].iterrows():\n",
    "        if index % 1000 == 0:\n",
    "            print((index/sampleSize))\n",
    "        if index >= sampleSize:\n",
    "            break\n",
    "        ratingToDict(row['user_id'], row['story_id'], row['rating'], ratingDict)\n",
    "    return ratingDict"
   ]
  },
  {
   "cell_type": "code",
   "execution_count": 29,
   "metadata": {},
   "outputs": [
    {
     "name": "stdout",
     "output_type": "stream",
     "text": [
      "0.0\n",
      "0.174276751481\n",
      "0.348553502963\n",
      "0.522830254444\n",
      "0.697107005925\n",
      "0.871383757407\n"
     ]
    }
   ],
   "source": [
    "prefDict = convertRatingDF()"
   ]
  },
  {
   "cell_type": "code",
   "execution_count": 31,
   "metadata": {},
   "outputs": [],
   "source": [
    "userRankings = getRecommendations(prefDict, 42, similarity=sim_pearson)"
   ]
  },
  {
   "cell_type": "code",
   "execution_count": 33,
   "metadata": {},
   "outputs": [],
   "source": [
    "userRecommendations = []\n",
    "for i in range (0, 15):\n",
    "    story_id = userRankings[i][1] \n",
    "    userRecommendations.append((userRankings[i][0], story_id))"
   ]
  },
  {
   "cell_type": "code",
   "execution_count": 34,
   "metadata": {},
   "outputs": [
    {
     "name": "stdout",
     "output_type": "stream",
     "text": [
      "(5.0000000000000009, 225.0)\n",
      "(5.0, 460.0)\n",
      "(5.0, 412.0)\n",
      "(5.0, 373.0)\n",
      "(5.0, 314.0)\n",
      "(5.0, 274.0)\n",
      "(5.0, 269.0)\n",
      "(5.0, 228.0)\n",
      "(4.9999999999999991, 218.0)\n",
      "(4.9167076050290497, 381.0)\n",
      "(4.9057418680651868, 360.0)\n",
      "(4.9034627868056022, 295.0)\n",
      "(4.8767653015955075, 242.0)\n",
      "(4.8180499650694024, 355.0)\n",
      "(4.8143934004586013, 468.0)\n"
     ]
    }
   ],
   "source": [
    "for item in userRecommendations:\n",
    "    print(item)"
   ]
  },
  {
   "cell_type": "markdown",
   "metadata": {},
   "source": [
    "#### Topmatches sample output for User 42"
   ]
  },
  {
   "cell_type": "code",
   "execution_count": 35,
   "metadata": {
    "collapsed": true
   },
   "outputs": [],
   "source": [
    "userMatches = topMatches(prefDict, 42, n=15, similarity=sim_pearson)"
   ]
  },
  {
   "cell_type": "code",
   "execution_count": 36,
   "metadata": {},
   "outputs": [
    {
     "name": "stdout",
     "output_type": "stream",
     "text": [
      "[(0.35019299698185757, 26.0), (0.29437524241930929, 47.0), (0.24867151568586818, 29.0), (0.20498001542269695, 6.0), (0.19834866242949786, 31.0), (0.18106392014901079, 15.0), (0.1725591925629156, 25.0), (0.13880244223291471, 4.0), (0.12354500527419783, 44.0), (0.087532660890563579, 1.0), (0.074873411205789997, 12.0), (0.07439835775211405, 10.0), (0.07341710238075197, 7.0), (0.052482746946024443, 17.0), (0.033741528043986238, 45.0)]\n"
     ]
    }
   ],
   "source": [
    "print(userMatches)"
   ]
  },
  {
   "cell_type": "code",
   "execution_count": 37,
   "metadata": {},
   "outputs": [],
   "source": [
    "itemMatches = calculateSimilarItems(prefDict, 50)"
   ]
  },
  {
   "cell_type": "markdown",
   "metadata": {},
   "source": [
    "#### Sample output for recommendation of User 5"
   ]
  },
  {
   "cell_type": "code",
   "execution_count": 51,
   "metadata": {},
   "outputs": [
    {
     "name": "stdout",
     "output_type": "stream",
     "text": [
      "(5.0, 334.0)\n",
      "(5.0, 332.0)\n",
      "(5.0, 293.0)\n",
      "(5.0, 220.0)\n",
      "(5.0, 204.0)\n",
      "(5.0, 184.0)\n",
      "(5.0, 149.0)\n",
      "(5.0, 144.0)\n",
      "(5.0, 138.0)\n",
      "(5.0, 110.0)\n",
      "(5.0, 101.0)\n",
      "(5.0, 97.0)\n",
      "(5.0, 87.0)\n",
      "(5.0, 58.0)\n",
      "(4.666666666666667, 401.0)\n",
      "(4.5, 464.0)\n",
      "(4.5, 451.0)\n",
      "(4.5, 373.0)\n",
      "(4.3333333333333339, 445.0)\n",
      "(4.3333333333333339, 444.0)\n",
      "(4.25, 463.0)\n",
      "(4.2000000000000002, 407.0)\n",
      "(4.166666666666667, 493.0)\n",
      "(4.0000000000000018, 330.0)\n",
      "(4.0, 484.0)\n",
      "(4.0, 482.0)\n",
      "(4.0, 458.0)\n",
      "(4.0, 443.0)\n",
      "(4.0, 425.0)\n",
      "(4.0, 409.0)\n",
      "(4.0, 393.0)\n",
      "(4.0, 355.0)\n",
      "(4.0, 352.0)\n",
      "(4.0, 287.0)\n",
      "(4.0, 271.0)\n",
      "(4.0, 242.0)\n",
      "(4.0, 217.0)\n",
      "(4.0, 216.0)\n",
      "(4.0, 212.0)\n",
      "(4.0, 200.0)\n",
      "(4.0, 189.0)\n",
      "(4.0, 162.0)\n",
      "(4.0, 154.0)\n",
      "(4.0, 145.0)\n",
      "(4.0, 128.0)\n",
      "(4.0, 113.0)\n",
      "(4.0, 104.0)\n",
      "(4.0, 98.0)\n",
      "(4.0, 62.0)\n",
      "(4.0, 60.0)\n"
     ]
    }
   ],
   "source": [
    "user42 = getRecommendedItems(prefDict, itemMatches, 42)\n",
    "userRecommendations = []\n",
    "for i in range (0, 50):\n",
    "    story_id = user42[i][1] \n",
    "    userRecommendations.append((user42[i][0], story_id))\n",
    "    print(userRecommendations[i])"
   ]
  },
  {
   "cell_type": "code",
   "execution_count": 44,
   "metadata": {
    "collapsed": true
   },
   "outputs": [],
   "source": [
    "# prefDict, testDict = train_test_split(prefDict)"
   ]
  },
  {
   "cell_type": "code",
   "execution_count": 45,
   "metadata": {
    "collapsed": true
   },
   "outputs": [],
   "source": [
    "# acc, missed = get_all_accuracies(prefDict, testDict, itemMatches)"
   ]
  },
  {
   "cell_type": "code",
   "execution_count": 46,
   "metadata": {
    "scrolled": true
   },
   "outputs": [
    {
     "name": "stdout",
     "output_type": "stream",
     "text": [
      "1.80858728699\n",
      "0.08163265306122448\n"
     ]
    }
   ],
   "source": [
    "# print(acc)\n",
    "# print(missed)"
   ]
  },
  {
   "cell_type": "code",
   "execution_count": 63,
   "metadata": {
    "collapsed": true
   },
   "outputs": [],
   "source": [
    "itemMatches = calculateSimilarItems(prefDict, 50)"
   ]
  },
  {
   "cell_type": "code",
   "execution_count": 56,
   "metadata": {
    "collapsed": true
   },
   "outputs": [],
   "source": [
    "all_users = get_users(db)"
   ]
  },
  {
   "cell_type": "code",
   "execution_count": 80,
   "metadata": {
    "scrolled": false
   },
   "outputs": [
    {
     "name": "stdout",
     "output_type": "stream",
     "text": [
      "0.019230769230769232\n",
      "0.038461538461538464\n",
      "0.057692307692307696\n",
      "0.07692307692307693\n"
     ]
    },
    {
     "name": "stderr",
     "output_type": "stream",
     "text": [
      "C:\\Anaconda3\\lib\\site-packages\\ipykernel_launcher.py:17: RuntimeWarning: invalid value encountered in double_scalars\n"
     ]
    },
    {
     "name": "stdout",
     "output_type": "stream",
     "text": [
      "0.09615384615384616\n",
      "0.11538461538461539\n",
      "0.1346153846153846\n",
      "0.15384615384615385\n",
      "0.17307692307692307\n",
      "0.19230769230769232\n",
      "0.21153846153846154\n",
      "0.23076923076923078\n",
      "0.25\n",
      "0.2692307692307692\n",
      "0.28846153846153844\n",
      "0.3076923076923077\n",
      "0.3269230769230769\n",
      "0.34615384615384615\n",
      "0.36538461538461536\n",
      "0.38461538461538464\n",
      "0.40384615384615385\n",
      "0.4230769230769231\n",
      "0.4423076923076923\n",
      "0.46153846153846156\n",
      "0.4807692307692308\n",
      "0.5\n",
      "0.5192307692307693\n",
      "0.5384615384615384\n",
      "0.5576923076923077\n",
      "0.5769230769230769\n",
      "0.5961538461538461\n",
      "0.6153846153846154\n",
      "0.6346153846153846\n",
      "0.6538461538461539\n",
      "0.6730769230769231\n",
      "0.6923076923076923\n",
      "0.7115384615384616\n",
      "0.7307692307692307\n",
      "0.75\n",
      "0.7692307692307693\n",
      "0.7884615384615384\n",
      "0.8076923076923077\n",
      "0.8269230769230769\n",
      "0.8461538461538461\n",
      "0.8653846153846154\n",
      "0.8846153846153846\n",
      "0.9038461538461539\n",
      "0.9230769230769231\n",
      "0.9423076923076923\n",
      "0.9615384615384616\n",
      "0.9807692307692307\n",
      "1.0\n"
     ]
    }
   ],
   "source": [
    "count = 0\n",
    "for user in all_users:\n",
    "    count += 1\n",
    "    print(count/len(all_users))\n",
    "    try:\n",
    "        user_items = getRecommendedItems(prefDict, itemMatches, user['id'])\n",
    "    except:\n",
    "        continue\n",
    "    try:\n",
    "        for user_item in user_items[:25]:\n",
    "            story_id = user_item[1] \n",
    "\n",
    "            recommendation = {\n",
    "                'rating': float(user_item[0]),\n",
    "                'story_id': int(story_id),\n",
    "                'user_id': int(user['id'])\n",
    "            }\n",
    "            insert_recommendations(db, recommendation)\n",
    "    except Exception as e:\n",
    "        print(e)\n",
    "        continue"
   ]
  },
  {
   "cell_type": "code",
   "execution_count": null,
   "metadata": {
    "collapsed": true
   },
   "outputs": [],
   "source": [
    "close_db_instance(db)"
   ]
  }
 ],
 "metadata": {
  "kernelspec": {
   "display_name": "Python 3",
   "language": "python",
   "name": "python3"
  },
  "language_info": {
   "codemirror_mode": {
    "name": "ipython",
    "version": 3
   },
   "file_extension": ".py",
   "mimetype": "text/x-python",
   "name": "python",
   "nbconvert_exporter": "python",
   "pygments_lexer": "ipython3",
   "version": "3.6.1"
  }
 },
 "nbformat": 4,
 "nbformat_minor": 1
}
